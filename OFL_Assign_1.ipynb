{
 "cells": [
  {
   "cell_type": "code",
   "execution_count": 2,
   "metadata": {
    "colab": {
     "base_uri": "https://localhost:8080/",
     "height": 80
    },
    "colab_type": "code",
    "id": "B39N9ml2YiLU",
    "outputId": "54b2181f-699a-4453-c54c-b073d16a1b76"
   },
   "outputs": [
    {
     "name": "stderr",
     "output_type": "stream",
     "text": [
      "Using TensorFlow backend.\n"
     ]
    },
    {
     "data": {
      "text/html": [
       "<p style=\"color: red;\">\n",
       "The default version of TensorFlow in Colab will soon switch to TensorFlow 2.x.<br>\n",
       "We recommend you <a href=\"https://www.tensorflow.org/guide/migrate\" target=\"_blank\">upgrade</a> now \n",
       "or ensure your notebook will continue to use TensorFlow 1.x via the <code>%tensorflow_version 1.x</code> magic:\n",
       "<a href=\"https://colab.research.google.com/notebooks/tensorflow_version.ipynb\" target=\"_blank\">more info</a>.</p>\n"
      ],
      "text/plain": [
       "<IPython.core.display.HTML object>"
      ]
     },
     "metadata": {
      "tags": []
     },
     "output_type": "display_data"
    }
   ],
   "source": [
    "import pandas as pd\n",
    "import os\n",
    "import numpy as np\n",
    "import matplotlib.pyplot as plt\n",
    "import cv2\n",
    "\n",
    "from keras.layers import Conv2D, MaxPooling2D, Convolution2D, Dropout, Dense, Flatten\n",
    "from keras.models import Sequential\n",
    "from keras.preprocessing.image import ImageDataGenerator\n",
    "from keras.layers.normalization import BatchNormalization\n",
    "from keras.layers.advanced_activations import LeakyReLU\n",
    "import keras\n",
    "\n",
    "from sklearn.model_selection import train_test_split\n",
    "from sklearn.metrics import classification_report"
   ]
  },
  {
   "cell_type": "code",
   "execution_count": 0,
   "metadata": {
    "colab": {},
    "colab_type": "code",
    "id": "yfMGX98KYpnI"
   },
   "outputs": [],
   "source": [
    "img = np.load(\"./npy_files/img_\"+mode+\".npy\")/255.\n",
    "tar = np.load(\"./npy_files/tar_train_binary.npy\")\n",
    "\n",
    "img_test = np.load(\"./npy_files/img_test.npy\")/255.\n",
    "tar_test = np.load(\"./npy_files/tar_test_binary.npy\")"
   ]
  },
  {
   "cell_type": "code",
   "execution_count": 0,
   "metadata": {
    "colab": {},
    "colab_type": "code",
    "id": "N1-xi-ppVpQm"
   },
   "outputs": [],
   "source": [
    "input_shape = (28, 28, 1)\n",
    "nb_classes = 2\n",
    "\n",
    "model = Sequential()\n",
    "model.add(Convolution2D(64, (5, 5), padding='valid', input_shape=input_shape))\n",
    "model.add(LeakyReLU(0.01))\n",
    "model.add(MaxPooling2D(pool_size=(2, 2)))\n",
    "model.add(Dropout(0.25))\n",
    "\n",
    "model.add(BatchNormalization())\n",
    "model.add(Convolution2D(64, (3, 3)))\n",
    "model.add(LeakyReLU(0.01))\n",
    "model.add(MaxPooling2D(pool_size=(2, 2)))\n",
    "model.add(Dropout(0.25))\n",
    "\n",
    "model.add(Flatten())\n",
    "\n",
    "model.add(BatchNormalization())\n",
    "model.add(Dense(1024))\n",
    "model.add(LeakyReLU(0.01))\n",
    "model.add(Dropout(0.25))\n",
    "\n",
    "model.add(Dense(nb_classes, activation='softmax'))\n",
    "\n",
    "adam = keras.optimizers.Adam(lr=0.001, beta_1=0.9, beta_2=0.999, amsgrad=False)\n",
    "model.compile(loss='categorical_crossentropy', optimizer=adam, metrics=['accuracy'])\n",
    "\n",
    "# model.summary()"
   ]
  },
  {
   "cell_type": "code",
   "execution_count": 0,
   "metadata": {
    "colab": {},
    "colab_type": "code",
    "id": "pKtzT9MYVpNZ"
   },
   "outputs": [],
   "source": [
    "batch_size = 128\n",
    "gen = ImageDataGenerator(rotation_range=8, width_shift_range=0.08, shear_range=0.3, height_shift_range=0.08, zoom_range=0.08)\n",
    "val_gen = ImageDataGenerator()\n",
    "\n",
    "train_generator = gen.flow(img, tar, batch_size=batch_size)\n",
    "test_generator = val_gen.flow(img_test, tar_test, batch_size=batch_size)\n",
    "\n",
    "t1 = img.shape[0]//batch_size\n",
    "t2 = img_test.shape[0]//batch_size"
   ]
  },
  {
   "cell_type": "code",
   "execution_count": 0,
   "metadata": {
    "colab": {},
    "colab_type": "code",
    "id": "hQ3dOsL0VpK9"
   },
   "outputs": [],
   "source": [
    "try:\n",
    "  history = model.fit_generator(train_generator, steps_per_epoch=t1, epochs=50, validation_data=test_generator, validation_steps=t2)\n",
    "except KeyboardInterrupt as e:\n",
    "  pass"
   ]
  },
  {
   "cell_type": "code",
   "execution_count": 0,
   "metadata": {
    "colab": {},
    "colab_type": "code",
    "id": "h1z61Syu7QdM"
   },
   "outputs": [],
   "source": [
    "model.save(\"./models/model1.h5\")"
   ]
  },
  {
   "cell_type": "code",
   "execution_count": 81,
   "metadata": {
    "colab": {
     "base_uri": "https://localhost:8080/",
     "height": 153
    },
    "colab_type": "code",
    "id": "8HSkH9-7VpIw",
    "outputId": "f80a6946-d965-46da-e5e7-0cf3eb57b052"
   },
   "outputs": [
    {
     "name": "stdout",
     "output_type": "stream",
     "text": [
      "------------\n",
      "Testing acc\n",
      "18800/18800 [==============================] - 2s 90us/step\n",
      "[0.13660382586987094, 0.935372340425532]\n",
      "------------\n",
      "Training acc\n",
      "112800/112800 [==============================] - 9s 81us/step\n",
      "[0.10434728366687542, 0.9461790780141844]\n"
     ]
    }
   ],
   "source": [
    "model = keras.models.load_model(\"./models/model1.h5\")\n",
    "\n",
    "print(\"------------\\nTesting acc\")\n",
    "print(model.evaluate(img_test, tar_test))\n",
    "print(\"------------\\nTraining acc\")\n",
    "print(model.evaluate(img, tar))"
   ]
  },
  {
   "cell_type": "code",
   "execution_count": 116,
   "metadata": {
    "colab": {
     "base_uri": "https://localhost:8080/",
     "height": 79
    },
    "colab_type": "code",
    "id": "F6N81AlEVpGA",
    "outputId": "d01e5908-2026-4a68-e19c-289655c94ab8"
   },
   "outputs": [
    {
     "name": "stdout",
     "output_type": "stream",
     "text": [
      "Prediction: number\n",
      "Actual val: number\n"
     ]
    },
    {
     "data": {
      "image/png": "[encoded data removed]",
      "text/plain": [
       "<PIL.Image.Image image mode=L size=28x28 at 0x7F93EDDF6D30>"
      ]
     },
     "metadata": {
      "tags": []
     },
     "output_type": "display_data"
    }
   ],
   "source": [
    "idx = np.random.randint(0, 18000)\n",
    "\n",
    "vals = [\"letter\", \"number\"]\n",
    "\n",
    "image = np.reshape(img_test[idx], (1, 28, 28, 1))\n",
    "prediction = model.predict_classes(image)\n",
    "\n",
    "print(\"Prediction: %s\"%vals[prediction[0]])\n",
    "print(\"Actual val: %s\"%vals[np.argmax(tar_test[idx])])\n",
    "\n",
    "cv2.imshow(image[0,:,:,0]*255.)"
   ]
  },
  {
   "cell_type": "code",
   "execution_count": 112,
   "metadata": {
    "colab": {
     "base_uri": "https://localhost:8080/",
     "height": 170
    },
    "colab_type": "code",
    "id": "hBB_zpPy7gXp",
    "outputId": "a3baa2f0-aa7c-4d36-b3fd-5930e468625a"
   },
   "outputs": [
    {
     "name": "stdout",
     "output_type": "stream",
     "text": [
      "              precision    recall  f1-score   support\n",
      "\n",
      "           0       0.97      0.95      0.96     14800\n",
      "           1       0.82      0.89      0.85      4000\n",
      "\n",
      "    accuracy                           0.94     18800\n",
      "   macro avg       0.90      0.92      0.91     18800\n",
      "weighted avg       0.94      0.94      0.94     18800\n",
      "\n"
     ]
    }
   ],
   "source": [
    "# CLASS-WISE PREDICTION RESULTS\n",
    "\n",
    "Y_test = np.argmax(tar_test, axis=1)\n",
    "y_pred = model.predict_classes(img_test)\n",
    "print(classification_report(Y_test, y_pred))"
   ]
  },
  {
   "cell_type": "code",
   "execution_count": 0,
   "metadata": {
    "colab": {},
    "colab_type": "code",
    "id": "dPfk9FkMI4A0"
   },
   "outputs": [],
   "source": []
  }
 ],
 "metadata": {
  "accelerator": "GPU",
  "colab": {
   "collapsed_sections": [],
   "name": "OFL_Assign_1.ipynb",
   "provenance": []
  },
  "kernelspec": {
   "display_name": "Python 3",
   "language": "python",
   "name": "python3"
  },
  "language_info": {
   "codemirror_mode": {
    "name": "ipython",
    "version": 3
   },
   "file_extension": ".py",
   "mimetype": "text/x-python",
   "name": "python",
   "nbconvert_exporter": "python",
   "pygments_lexer": "ipython3",
   "version": "3.7.3"
  }
 },
 "nbformat": 4,
 "nbformat_minor": 1
}
