{
 "cells": [
  {
   "cell_type": "code",
   "execution_count": 0,
   "metadata": {
    "colab": {},
    "colab_type": "code",
    "id": "Z9EgWzvo9BkK"
   },
   "outputs": [],
   "source": [
    "import pandas as pd\n",
    "import os\n",
    "import numpy as np\n",
    "import matplotlib.pyplot as plt\n",
    "import cv2\n",
    "\n",
    "from keras.layers import Conv2D, MaxPooling2D, Convolution2D, Dropout, Dense, Flatten\n",
    "from keras.models import Sequential\n",
    "from keras.preprocessing.image import ImageDataGenerator\n",
    "from keras.layers.normalization import BatchNormalization\n",
    "from keras.layers.advanced_activations import LeakyReLU\n",
    "import keras\n",
    "\n",
    "from sklearn.model_selection import train_test_split\n",
    "from sklearn.metrics import classification_report"
   ]
  },
  {
   "cell_type": "code",
   "execution_count": 0,
   "metadata": {
    "colab": {},
    "colab_type": "code",
    "id": "DRaIBbqNffgw"
   },
   "outputs": [],
   "source": [
    "img = np.load(\"./npy_files/img_train.npy\")/255.\n",
    "tar = np.load(\"./npy_files/tar_train.npy\")\n",
    "\n",
    "img_test = np.load(\"./npy_files/img_test.npy\")/255.\n",
    "tar_test = np.load(\"./npy_files/tar_test.npy\")"
   ]
  },
  {
   "cell_type": "code",
   "execution_count": 0,
   "metadata": {
    "colab": {},
    "colab_type": "code",
    "id": "vR9hi845x0v3"
   },
   "outputs": [],
   "source": [
    "input_shape = (28, 28, 1)\n",
    "nb_classes = 47\n",
    "nb_filters = 32\n",
    "pool_size = (2, 2)\n",
    "kernel_size = (3, 3)\n",
    "\n",
    "model = Sequential()\n",
    "model.add(Convolution2D(nb_filters,\n",
    "                        kernel_size,\n",
    "                        padding='valid',\n",
    "                        input_shape=input_shape,\n",
    "                        activation='relu'))\n",
    "\n",
    "model.add(Convolution2D(nb_filters,\n",
    "                        kernel_size,\n",
    "                        activation='relu'))\n",
    "\n",
    "model.add(MaxPooling2D(pool_size=pool_size))\n",
    "model.add(Dropout(0.25))\n",
    "model.add(Flatten())\n",
    "\n",
    "model.add(Dense(512, activation='relu'))\n",
    "model.add(Dropout(0.5))\n",
    "model.add(Dense(nb_classes, activation='softmax'))\n",
    "\n",
    "adam = keras.optimizers.Adam(lr=0.001, beta_1=0.9, beta_2=0.999, amsgrad=False)\n",
    "model.compile(loss='categorical_crossentropy', optimizer=adam, metrics=['accuracy'])\n",
    "\n",
    "# model.summary()"
   ]
  },
  {
   "cell_type": "code",
   "execution_count": 0,
   "metadata": {
    "colab": {},
    "colab_type": "code",
    "id": "_dXMOEyy5zku"
   },
   "outputs": [],
   "source": [
    "batch_size = 256\n",
    "gen = ImageDataGenerator(rotation_range=8, width_shift_range=0.08, shear_range=0.3, height_shift_range=0.08, zoom_range=0.08)\n",
    "val_gen = ImageDataGenerator()\n",
    "\n",
    "train_generator = gen.flow(img, tar, batch_size=batch_size)\n",
    "test_generator = val_gen.flow(img_test, tar_test, batch_size=batch_size)\n",
    "\n",
    "t1 = img.shape[0]//batch_size\n",
    "t2 = img_test.shape[0]//batch_size"
   ]
  },
  {
   "cell_type": "code",
   "execution_count": 0,
   "metadata": {
    "colab": {},
    "colab_type": "code",
    "id": "RY4EBLpNx0tn"
   },
   "outputs": [],
   "source": [
    "try:\n",
    "  history = model.fit_generator(train_generator, steps_per_epoch=t1, epochs=20, validation_data=test_generator, validation_steps=t2)\n",
    "except KeyboardInterrupt as e:\n",
    "  pass"
   ]
  },
  {
   "cell_type": "code",
   "execution_count": 0,
   "metadata": {
    "colab": {},
    "colab_type": "code",
    "id": "wFDdTV6Fx0dD"
   },
   "outputs": [],
   "source": [
    "model.save(\"./models/model3.h5\")"
   ]
  },
  {
   "cell_type": "code",
   "execution_count": 4,
   "metadata": {
    "colab": {
     "base_uri": "https://localhost:8080/",
     "height": 119
    },
    "colab_type": "code",
    "id": "z1Y_fSQHx0q-",
    "outputId": "f8ad0325-0071-4faf-bed9-1248ed867926"
   },
   "outputs": [
    {
     "name": "stdout",
     "output_type": "stream",
     "text": [
      "18800/18800 [==============================] - 5s 259us/step\n",
      "[0.2924460790702637, 0.8971808510638298]\n",
      "------------\n",
      "Training acc\n",
      "112800/112800 [==============================] - 11s 95us/step\n",
      "[0.19393558671764025, 0.921072695035461]\n"
     ]
    }
   ],
   "source": [
    "model = keras.models.load_model(\"./models/model3.h5\")\n",
    "\n",
    "print(\"------------\\nTesting acc\")\n",
    "print(model.evaluate(img_test, tar_test, verbose=1))\n",
    "print(\"------------\\nTraining acc\")\n",
    "print(model.evaluate(img, tar, verbose=1))"
   ]
  },
  {
   "cell_type": "code",
   "execution_count": 26,
   "metadata": {
    "colab": {
     "base_uri": "https://localhost:8080/",
     "height": 79
    },
    "colab_type": "code",
    "id": "99d6Im6zAWBg",
    "outputId": "07075359-d2d3-4016-e50f-a210f696d2d4"
   },
   "outputs": [
    {
     "name": "stdout",
     "output_type": "stream",
     "text": [
      "Prediction: 14\n",
      "Actual val: 14\n"
     ]
    },
    {
     "data": {
      "image/png": "[encoded data removed]",
      "text/plain": [
       "<PIL.Image.Image image mode=L size=28x28 at 0x7F430608B898>"
      ]
     },
     "metadata": {
      "tags": []
     },
     "output_type": "display_data"
    }
   ],
   "source": [
    "idx = np.random.randint(0, 18000)\n",
    "\n",
    "image = np.reshape(img_test[idx], (1, 28, 28, 1))\n",
    "prediction = model.predict_classes(image)\n",
    "\n",
    "print(\"Prediction: %s\"%prediction[0])\n",
    "print(\"Actual val: %s\"%np.argmax(tar_test[idx]))\n",
    "\n",
    "cv2.imshow(image[0,:,:,0]*255.)"
   ]
  },
  {
   "cell_type": "code",
   "execution_count": 23,
   "metadata": {
    "colab": {
     "base_uri": "https://localhost:8080/",
     "height": 935
    },
    "colab_type": "code",
    "id": "DxVgmCC0LkNl",
    "outputId": "97fff948-fa9a-43ff-a070-d65b8499a433"
   },
   "outputs": [
    {
     "name": "stdout",
     "output_type": "stream",
     "text": [
      "              precision    recall  f1-score   support\n",
      "\n",
      "           0       0.61      0.89      0.72       400\n",
      "           1       0.52      0.74      0.62       400\n",
      "           2       0.93      0.88      0.90       400\n",
      "           3       0.99      0.99      0.99       400\n",
      "           4       0.97      0.95      0.96       400\n",
      "           5       0.94      0.92      0.93       400\n",
      "           6       0.97      0.95      0.96       400\n",
      "           7       0.97      0.99      0.98       400\n",
      "           8       0.95      0.97      0.96       400\n",
      "           9       0.68      0.87      0.76       400\n",
      "          10       0.97      0.99      0.98       400\n",
      "          11       0.97      0.98      0.98       400\n",
      "          12       0.98      0.96      0.97       400\n",
      "          13       0.93      0.94      0.93       400\n",
      "          14       0.98      0.99      0.99       400\n",
      "          15       0.72      0.68      0.70       400\n",
      "          16       0.93      0.97      0.95       400\n",
      "          17       0.97      0.98      0.97       400\n",
      "          18       0.76      0.58      0.66       400\n",
      "          19       0.95      0.96      0.96       400\n",
      "          20       0.97      0.99      0.98       400\n",
      "          21       0.66      0.51      0.57       400\n",
      "          22       0.99      0.98      0.98       400\n",
      "          23       0.95      0.98      0.96       400\n",
      "          24       0.84      0.45      0.58       400\n",
      "          25       0.97      0.97      0.97       400\n",
      "          26       0.93      0.97      0.95       400\n",
      "          27       0.94      1.00      0.97       400\n",
      "          28       0.91      0.94      0.92       400\n",
      "          29       0.94      0.95      0.94       400\n",
      "          30       0.95      0.94      0.94       400\n",
      "          31       0.93      0.95      0.94       400\n",
      "          32       0.99      0.99      0.99       400\n",
      "          33       0.99      0.96      0.98       400\n",
      "          34       0.94      0.95      0.94       400\n",
      "          35       0.88      0.95      0.92       400\n",
      "          36       0.91      0.90      0.90       400\n",
      "          37       0.95      0.95      0.95       400\n",
      "          38       0.98      0.97      0.98       400\n",
      "          39       0.98      0.98      0.98       400\n",
      "          40       0.69      0.69      0.69       400\n",
      "          41       0.86      0.63      0.73       400\n",
      "          42       0.94      0.97      0.95       400\n",
      "          43       0.96      0.92      0.94       400\n",
      "          44       0.71      0.62      0.66       400\n",
      "          45       0.96      0.94      0.95       400\n",
      "          46       0.93      0.94      0.94       400\n",
      "\n",
      "    accuracy                           0.90     18800\n",
      "   macro avg       0.90      0.90      0.90     18800\n",
      "weighted avg       0.90      0.90      0.90     18800\n",
      "\n"
     ]
    }
   ],
   "source": [
    "# CLASS-WISE PREDICTION RESULTS\n",
    "\n",
    "Y_test = np.argmax(tar_test, axis=1)\n",
    "y_pred = model.predict_classes(img_test)\n",
    "print(classification_report(Y_test, y_pred))"
   ]
  },
  {
   "cell_type": "code",
   "execution_count": 0,
   "metadata": {
    "colab": {},
    "colab_type": "code",
    "id": "yQUORtn6_zM-"
   },
   "outputs": [],
   "source": []
  }
 ],
 "metadata": {
  "accelerator": "GPU",
  "colab": {
   "collapsed_sections": [],
   "name": "OFL_Assign_3.ipynb",
   "provenance": []
  },
  "kernelspec": {
   "display_name": "Python 3",
   "language": "python",
   "name": "python3"
  },
  "language_info": {
   "codemirror_mode": {
    "name": "ipython",
    "version": 3
   },
   "file_extension": ".py",
   "mimetype": "text/x-python",
   "name": "python",
   "nbconvert_exporter": "python",
   "pygments_lexer": "ipython3",
   "version": "3.7.3"
  }
 },
 "nbformat": 4,
 "nbformat_minor": 1
}
