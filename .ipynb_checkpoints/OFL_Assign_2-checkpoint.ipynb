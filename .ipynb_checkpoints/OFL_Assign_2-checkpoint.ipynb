{
 "cells": [
  {
   "cell_type": "code",
   "execution_count": 0,
   "metadata": {
    "colab": {},
    "colab_type": "code",
    "id": "5XhM1P5aVUQH"
   },
   "outputs": [],
   "source": [
    "import pandas as pd\n",
    "import os\n",
    "import numpy as np\n",
    "import matplotlib.pyplot as plt\n",
    "import cv2\n",
    "\n",
    "from keras.layers import Conv2D, MaxPooling2D, Convolution2D, Dropout, Dense, Flatten\n",
    "from keras.models import Sequential\n",
    "from keras.preprocessing.image import ImageDataGenerator\n",
    "from keras.layers.normalization import BatchNormalization\n",
    "from keras.layers.advanced_activations import LeakyReLU\n",
    "import keras\n",
    "\n",
    "from sklearn.model_selection import train_test_split\n",
    "from sklearn.metrics import classification_report"
   ]
  },
  {
   "cell_type": "code",
   "execution_count": 0,
   "metadata": {
    "colab": {},
    "colab_type": "code",
    "id": "2xUdw0eBVliv"
   },
   "outputs": [],
   "source": [
    "img = np.load(\"./npy_files/img_train.npy\")/255.\n",
    "tar = np.load(\"./npy_files/tar_train_ques2.npy\")\n",
    "\n",
    "img_test = np.load(\"./npy_files/img_test.npy\")/255.\n",
    "tar_test = np.load(\"./npy_files/tar_test_ques2.npy\")"
   ]
  },
  {
   "cell_type": "code",
   "execution_count": 0,
   "metadata": {
    "colab": {},
    "colab_type": "code",
    "id": "TK5ANmx0aMpa"
   },
   "outputs": [],
   "source": [
    "input_shape = (28, 28, 1)\n",
    "nb_classes = 4\n",
    "\n",
    "model = Sequential()\n",
    "model.add(Convolution2D(32, (3, 3), padding='valid', input_shape=input_shape))\n",
    "model.add(LeakyReLU(0.1))\n",
    "model.add(MaxPooling2D(pool_size=(2, 2)))\n",
    "model.add(Dropout(0.25))\n",
    "\n",
    "model.add(BatchNormalization())\n",
    "model.add(Convolution2D(32, (3, 3)))\n",
    "model.add(LeakyReLU(0.1))\n",
    "model.add(MaxPooling2D(pool_size=(2, 2)))\n",
    "model.add(Dropout(0.25))\n",
    "\n",
    "model.add(Flatten())\n",
    "\n",
    "model.add(BatchNormalization())\n",
    "model.add(Dense(512))\n",
    "model.add(LeakyReLU(0.1))\n",
    "model.add(Dropout(0.25))\n",
    "\n",
    "model.add(BatchNormalization())\n",
    "model.add(Dense(512))\n",
    "model.add(LeakyReLU(0.1))\n",
    "model.add(Dropout(0.25))\n",
    "\n",
    "model.add(BatchNormalization())\n",
    "model.add(Dense(512))\n",
    "model.add(LeakyReLU(0.1))\n",
    "model.add(Dropout(0.25))\n",
    "\n",
    "model.add(Dense(nb_classes, activation='softmax'))\n",
    "\n",
    "adam = keras.optimizers.Adam(lr=0.001)\n",
    "model.compile(loss='categorical_crossentropy', optimizer=adam, metrics=['accuracy'])\n",
    "\n",
    "batch_size = 128\n",
    "gen = ImageDataGenerator(rotation_range=8, width_shift_range=0.08, shear_range=0.3, height_shift_range=0.08, zoom_range=0.08)\n",
    "val_gen = ImageDataGenerator()\n",
    "\n",
    "train_generator = gen.flow(img, tar, batch_size=batch_size)\n",
    "test_generator = val_gen.flow(img_test, tar_test, batch_size=batch_size)\n",
    "\n",
    "t1 = img.shape[0]//batch_size\n",
    "t2 = img_test.shape[0]//batch_size"
   ]
  },
  {
   "cell_type": "code",
   "execution_count": 0,
   "metadata": {
    "colab": {},
    "colab_type": "code",
    "id": "Q_es5bZMcZaZ"
   },
   "outputs": [],
   "source": [
    "try:\n",
    "  history = model.fit_generator(train_generator, steps_per_epoch=t1, epochs=20, validation_data=test_generator, validation_steps=t2)\n",
    "except KeyboardInterrupt as e:\n",
    "  pass"
   ]
  },
  {
   "cell_type": "code",
   "execution_count": 0,
   "metadata": {
    "colab": {},
    "colab_type": "code",
    "id": "yQ6U-KFGdBuP"
   },
   "outputs": [],
   "source": [
    "model.save(\"./models/model2.h5\")"
   ]
  },
  {
   "cell_type": "code",
   "execution_count": 8,
   "metadata": {
    "colab": {
     "base_uri": "https://localhost:8080/",
     "height": 153
    },
    "colab_type": "code",
    "id": "mFwr2Pgoc5zt",
    "outputId": "44ec60ca-02b5-404a-ee22-6404266b1dd1"
   },
   "outputs": [
    {
     "name": "stdout",
     "output_type": "stream",
     "text": [
      "------------\n",
      "Testing acc\n",
      "18800/18800 [==============================] - 5s 281us/step\n",
      "[0.17316835214324455, 0.9279255319148936]\n",
      "------------\n",
      "Training acc\n",
      "112800/112800 [==============================] - 10s 91us/step\n",
      "[0.14556416739954064, 0.9363031914893617]\n"
     ]
    }
   ],
   "source": [
    "model = keras.models.load_model(\"./models/model2.h5\")\n",
    "\n",
    "print(\"------------\\nTesting acc\")\n",
    "print(model.evaluate(img_test, tar_test))\n",
    "print(\"------------\\nTraining acc\")\n",
    "print(model.evaluate(img, tar))"
   ]
  },
  {
   "cell_type": "code",
   "execution_count": 19,
   "metadata": {
    "colab": {
     "base_uri": "https://localhost:8080/",
     "height": 79
    },
    "colab_type": "code",
    "id": "zoHmzng1iAlP",
    "outputId": "1991ad6f-dfca-4043-da9e-22ec16a8e5d9"
   },
   "outputs": [
    {
     "name": "stdout",
     "output_type": "stream",
     "text": [
      "Prediction: even\n",
      "Actual val: even\n"
     ]
    },
    {
     "data": {
      "image/png": "[encoded data removed]",
      "text/plain": [
       "<PIL.Image.Image image mode=L size=28x28 at 0x7F895E0C3518>"
      ]
     },
     "metadata": {
      "tags": []
     },
     "output_type": "display_data"
    }
   ],
   "source": [
    "idx = np.random.randint(0, 18000)\n",
    "\n",
    "vals = [\"even\", \"odd\", \"vowel\", \"consonant\"]\n",
    "\n",
    "image = np.reshape(img_test[idx], (1, 28, 28, 1))\n",
    "prediction = model.predict_classes(image)\n",
    "\n",
    "print(\"Prediction: %s\"%vals[prediction[0]])\n",
    "print(\"Actual val: %s\"%vals[np.argmax(tar_test[idx])])\n",
    "\n",
    "cv2.imshow(image[0,:,:,0]*255.)"
   ]
  },
  {
   "cell_type": "code",
   "execution_count": 16,
   "metadata": {
    "colab": {
     "base_uri": "https://localhost:8080/",
     "height": 204
    },
    "colab_type": "code",
    "id": "IuWyL418Fo8P",
    "outputId": "77866a67-9696-40e7-bf28-ccff11031680"
   },
   "outputs": [
    {
     "name": "stdout",
     "output_type": "stream",
     "text": [
      "              precision    recall  f1-score   support\n",
      "\n",
      "           0       0.87      0.93      0.89      2000\n",
      "           1       0.81      0.89      0.85      2000\n",
      "           2       0.91      0.85      0.88      2800\n",
      "           3       0.97      0.95      0.96     12000\n",
      "\n",
      "    accuracy                           0.93     18800\n",
      "   macro avg       0.89      0.90      0.89     18800\n",
      "weighted avg       0.93      0.93      0.93     18800\n",
      "\n"
     ]
    }
   ],
   "source": [
    "# CLASS-WISE PREDICTION RESULTS\n",
    "\n",
    "Y_test = np.argmax(tar_test, axis=1)\n",
    "y_pred = model.predict_classes(img_test)\n",
    "print(classification_report(Y_test, y_pred))"
   ]
  },
  {
   "cell_type": "code",
   "execution_count": 0,
   "metadata": {
    "colab": {},
    "colab_type": "code",
    "id": "T7RYAt7YFuUD"
   },
   "outputs": [],
   "source": []
  }
 ],
 "metadata": {
  "accelerator": "GPU",
  "colab": {
   "collapsed_sections": [],
   "name": "OFL_Assign_2.ipynb",
   "provenance": []
  },
  "kernelspec": {
   "display_name": "Python 3",
   "language": "python",
   "name": "python3"
  },
  "language_info": {
   "codemirror_mode": {
    "name": "ipython",
    "version": 3
   },
   "file_extension": ".py",
   "mimetype": "text/x-python",
   "name": "python",
   "nbconvert_exporter": "python",
   "pygments_lexer": "ipython3",
   "version": "3.7.3"
  }
 },
 "nbformat": 4,
 "nbformat_minor": 1
}
